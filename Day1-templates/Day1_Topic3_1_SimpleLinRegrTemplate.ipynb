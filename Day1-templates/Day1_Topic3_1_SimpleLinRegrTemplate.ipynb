{
  "nbformat": 4,
  "nbformat_minor": 0,
  "metadata": {
    "colab": {
      "name": "Day1_Topic3-1_SimpleLinRegrTemplate.ipynb",
      "provenance": [],
      "collapsed_sections": []
    },
    "kernelspec": {
      "display_name": "Python 3",
      "language": "python",
      "name": "python3"
    },
    "language_info": {
      "codemirror_mode": {
        "name": "ipython",
        "version": 3
      },
      "file_extension": ".py",
      "mimetype": "text/x-python",
      "name": "python",
      "nbconvert_exporter": "python",
      "pygments_lexer": "ipython3",
      "version": "3.7.3"
    }
  },
  "cells": [
    {
      "cell_type": "markdown",
      "metadata": {
        "id": "E7D6uqBg1uZI",
        "colab_type": "text"
      },
      "source": [
        "# Topic : Neural Network for Simple Linear Regression  \n",
        "## Objective for this template:\n",
        "1. Introduce participants to fundamental  concepts of simple linear regression\n",
        "2. Use tensorflow to build a simple sequential neural network regression model\n",
        "3. Demonstrate the process of training the model and evaluating its performance\n",
        "4. Allow participants to practice normalizing the dataset to improve the performance of the dataset\n",
        "\n",
        "Designed By: _Rodolfo C. Raga Jr._  __Copyright @2019__\n",
        "\n",
        "__Permission granted to use template for educational purposes so long as this heading is not removed.__\n",
        "---\n",
        "\n",
        "\n",
        "\n",
        "---"
      ]
    },
    {
      "cell_type": "markdown",
      "metadata": {
        "id": "PTOVZNMD1ci2",
        "colab_type": "text"
      },
      "source": [
        "**Step 1**: load the tensorflow library and other helper libraries using the import keyword"
      ]
    },
    {
      "cell_type": "code",
      "metadata": {
        "colab_type": "code",
        "id": "3tzXnSzxapxr",
        "cellView": "code",
        "colab": {}
      },
      "source": [
        "\n",
        "\n",
        "\n",
        "\n",
        "\n",
        "\n",
        "print(\"Done with library declaration. Current version of Tensorflow is :\", tf.__version__)"
      ],
      "execution_count": 0,
      "outputs": []
    },
    {
      "cell_type": "markdown",
      "metadata": {
        "id": "Ex8CxTMx1cjB",
        "colab_type": "text"
      },
      "source": [
        "**Step 2**: Load a sample data into a numpy array. Here, the market_budget attribute serves as the feature attribute while the subscribers_gained attribute serves as the target attribute."
      ]
    },
    {
      "cell_type": "code",
      "metadata": {
        "colab_type": "code",
        "id": "sQ_IEhmdazze",
        "colab": {}
      },
      "source": [
        "\n",
        "\n",
        "#market_budget  = np.array([50, 69,  85  , 83, 74, 81, 97,  92, 114, 85],  dtype=float)\n",
        "#subscribers_gained = np.array([90, 125, 140, 160, 130, 180, 150, 140, 200, 130],  dtype=float)\n",
        "\n",
        "print(\"marketing budget data :\", market_budget)\n",
        "print(\"# of subscribers gained :\", subscribers_gained)\n",
        "print(\"Done with loading data to dataframes...\")\n"
      ],
      "execution_count": 0,
      "outputs": []
    },
    {
      "cell_type": "markdown",
      "metadata": {
        "id": "WuC452ds8QHs",
        "colab_type": "text"
      },
      "source": [
        "**Step 3**: Analyze the relationship between the two attributes by visualizing the correlation using a scatter chart. "
      ]
    },
    {
      "cell_type": "code",
      "metadata": {
        "colab_type": "code",
        "id": "Y_No81d5bSsg",
        "colab": {}
      },
      "source": [
        "\n",
        "\n",
        "\n",
        "\n",
        "\n",
        "\n",
        "print(\"Done with displaying scatter chart...\")\n"
      ],
      "execution_count": 0,
      "outputs": []
    },
    {
      "cell_type": "markdown",
      "metadata": {
        "id": "lG3pIKLyCPPV",
        "colab_type": "text"
      },
      "source": [
        "Step 3.1: Optionally, apply Normalization to the dataset using MinMaxScaler"
      ]
    },
    {
      "cell_type": "code",
      "metadata": {
        "id": "fJkAc3dyCMVR",
        "colab_type": "code",
        "colab": {}
      },
      "source": [
        "\n",
        "\n",
        "\n",
        "\n",
        "\n",
        "\n",
        "\n",
        "\n",
        "\n",
        "print(\"marketing budget data :\", rescaledMBDF.head())\n",
        "print(\"\\n# of subscribers gained :\", rescaledSGDF.head())"
      ],
      "execution_count": 0,
      "outputs": []
    },
    {
      "cell_type": "markdown",
      "metadata": {
        "colab_type": "text",
        "id": "oUkDy0Uybquf"
      },
      "source": [
        "**Step 4** : Separate the data into distinct training and testing datasets. Separating the dataset returns four NumPy arrays: \n",
        "\n",
        "1.   The X_train and y_train_labels arrays are the training set—the data the model uses to learn.\n",
        "2.   The X_test and y_test labels arrays are the data used to test the model performance."
      ]
    },
    {
      "cell_type": "code",
      "metadata": {
        "colab_type": "code",
        "id": "mN0-7f4Ubpbe",
        "colab": {}
      },
      "source": [
        "\n",
        "#X_train, X_test, y_train, y_test = train_test_split(rescaledMBDF,rescaledSGDF,random_state=42, test_size=0.3)\n",
        "print(\"Done with data separation...\")"
      ],
      "execution_count": 0,
      "outputs": []
    },
    {
      "cell_type": "markdown",
      "metadata": {
        "id": "DINSOKUp-N5g",
        "colab_type": "text"
      },
      "source": [
        "**Step 5** : We start building the neural network by using the Sequential API to define a Sequential model object named model. This type of model takes a list of layers (Input, Hidden, Output) as arguments and implicitly assumes the order of the calculation from the input layer to the output layer based on the sequence of layer definitions. "
      ]
    },
    {
      "cell_type": "code",
      "metadata": {
        "colab_type": "code",
        "id": "g-R5IvgadXqC",
        "colab": {}
      },
      "source": [
        "\n",
        "print(\"Done with declaring Sequential model object...\")\n"
      ],
      "execution_count": 0,
      "outputs": []
    },
    {
      "cell_type": "markdown",
      "metadata": {
        "id": "Fp9vDht3CKFc",
        "colab_type": "text"
      },
      "source": [
        "**Step 6** : Then we start defining the layers using the Dense class. Dense implements the operation: output = activation(dot(input, kernel) + bias) where activation is the element-wise activation function passed as the activation argument, kernel is a weights matrix created by the layer, and bias is a bias vector created by the layer (only applicable if use_bias is True )"
      ]
    },
    {
      "cell_type": "code",
      "metadata": {
        "colab_type": "code",
        "id": "xIRk26hmepaY",
        "colab": {}
      },
      "source": [
        "\n",
        "\n",
        "\n",
        "\n",
        "\n",
        "print(\"Done with defining layer properties...\")"
      ],
      "execution_count": 0,
      "outputs": []
    },
    {
      "cell_type": "markdown",
      "metadata": {
        "id": "a4WkggcfFzaC",
        "colab_type": "text"
      },
      "source": [
        "**Step 7** : After that, we insert the dense layer into our sequential model."
      ]
    },
    {
      "cell_type": "code",
      "metadata": {
        "colab_type": "code",
        "id": "EuqUagrie1P3",
        "colab": {}
      },
      "source": [
        "#model = tf.keras.Sequential([layer_0,layer_1,layer_2,layer_3])\n",
        "\n",
        "\n",
        "\n",
        "\n",
        "\n",
        "#print the model architecture for inspection\n",
        "model.summary()"
      ],
      "execution_count": 0,
      "outputs": []
    },
    {
      "cell_type": "markdown",
      "metadata": {
        "id": "nJ38HWvOHX9S",
        "colab_type": "text"
      },
      "source": [
        "**Step 8** : Compile the built model architecture. The compilation configures the learning process by defining an optimizer, a loss function, and other useful training parameters. "
      ]
    },
    {
      "cell_type": "code",
      "metadata": {
        "id": "eZ39qp4Be7xn",
        "colab_type": "code",
        "colab": {}
      },
      "source": [
        "\n",
        "\n",
        "print(\"Done with model compilation\")"
      ],
      "execution_count": 0,
      "outputs": []
    },
    {
      "cell_type": "markdown",
      "metadata": {
        "id": "r-IYiDxhHkjh",
        "colab_type": "text"
      },
      "source": [
        "**Step 9** : Train the model by using the set training data"
      ]
    },
    {
      "cell_type": "code",
      "metadata": {
        "colab_type": "code",
        "id": "0iYGJMLVfQ2G",
        "colab": {}
      },
      "source": [
        "\n",
        "print(\"Done with model training\")"
      ],
      "execution_count": 0,
      "outputs": []
    },
    {
      "cell_type": "markdown",
      "metadata": {
        "id": "vTT_jCW5H2kQ",
        "colab_type": "text"
      },
      "source": [
        "**Step 10** : Test the performance of the model using the testing dataset"
      ]
    },
    {
      "cell_type": "code",
      "metadata": {
        "id": "Z0xuTOyzIBjJ",
        "colab_type": "code",
        "colab": {}
      },
      "source": [
        "\n",
        "\n",
        "print('Actual Values\\tPredicted Values')\n",
        "print(y_test,'   ',y_pred.reshape(1,-1))\n",
        "\n",
        "\n",
        "print(\"Overall score: {}\".format(score*100))"
      ],
      "execution_count": 0,
      "outputs": []
    },
    {
      "cell_type": "markdown",
      "metadata": {
        "id": "gCyq_uHyIINi",
        "colab_type": "text"
      },
      "source": [
        "**Other things we can do:**\n",
        "\n",
        "\n",
        "---\n",
        "\n",
        "\n",
        "1. Analyze training statistics"
      ]
    },
    {
      "cell_type": "code",
      "metadata": {
        "colab_type": "code",
        "id": "-niV7nX3f2AC",
        "colab": {}
      },
      "source": [
        "\n",
        "\n",
        "\n"
      ],
      "execution_count": 0,
      "outputs": []
    },
    {
      "cell_type": "markdown",
      "metadata": {
        "id": "8NXvJPuPct79",
        "colab_type": "text"
      },
      "source": [
        "2. Test NN performance using validation dataset "
      ]
    },
    {
      "cell_type": "code",
      "metadata": {
        "colab_type": "code",
        "id": "MKp88sijg27m",
        "colab": {}
      },
      "source": [
        "#Single data test value\n"
      ],
      "execution_count": 0,
      "outputs": []
    },
    {
      "cell_type": "code",
      "metadata": {
        "colab_type": "code",
        "id": "Sy4O0J9RhJZX",
        "colab": {}
      },
      "source": [
        "#Array of test values\n",
        "\n",
        "print('Actual Values\\tPredicted Values')\n",
        "print(y_test,'   ',y_pred.reshape(1,-1))"
      ],
      "execution_count": 0,
      "outputs": []
    }
  ]
}