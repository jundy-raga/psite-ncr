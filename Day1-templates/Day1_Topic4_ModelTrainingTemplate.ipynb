{
  "nbformat": 4,
  "nbformat_minor": 0,
  "metadata": {
    "colab": {
      "name": "Day1_Topic4_ModelTrainingTemplate.ipynb",
      "provenance": [],
      "collapsed_sections": []
    },
    "kernelspec": {
      "name": "python3",
      "display_name": "Python 3"
    }
  },
  "cells": [
    {
      "cell_type": "markdown",
      "metadata": {
        "id": "uvVoBEziAZ2z",
        "colab_type": "text"
      },
      "source": [
        "# Topic : Model Optimization  \n",
        "## Objective for this template:\n",
        "1. Introduce participants to the fundamental concept of __model optimization__\n",
        "2. Familiarize participants with the various terminologies concerning model optimization\n",
        "3. Demonstrate the process of using automated techniques for optimizing various network hyperparameters\n",
        "3. Allow participants to practice optimizing the performance of their prediction models\n",
        "\n",
        "Designed By: _Rodolfo C. Raga Jr._  __Copyright @2019__\n",
        "\n",
        "__Permission granted to use template for educational purposes so long as this heading is not removed.__\n",
        "---\n",
        "\n",
        "\n",
        "\n",
        "---"
      ]
    },
    {
      "cell_type": "markdown",
      "metadata": {
        "id": "S4l5W9qZBku1",
        "colab_type": "text"
      },
      "source": [
        "**Step 1**: load various helper libraries using the import keyword and load the sample dataset into the colab server (prima-indian.csv). "
      ]
    },
    {
      "cell_type": "code",
      "metadata": {
        "id": "gybz6D8sYysN",
        "colab_type": "code",
        "colab": {}
      },
      "source": [
        "# Use scikit-learn to grid search the learning rate and momentum\n",
        "\n",
        "\n",
        "\n",
        "\n",
        "\n",
        "\n",
        "\n",
        "\n",
        "\n",
        "\n",
        "print(\"Done with library declaration. Current version of Tensorflow is :\", tf.__version__)\n",
        "print(\"Select dataset to load...\")\n",
        "from google.colab import files\n",
        "uploaded=files.upload()\n"
      ],
      "execution_count": 0,
      "outputs": []
    },
    {
      "cell_type": "markdown",
      "metadata": {
        "id": "ALDQVqtVCJwo",
        "colab_type": "text"
      },
      "source": [
        "**Step 2**: Declare the function that will be used to create the neural network model and define random seed."
      ]
    },
    {
      "cell_type": "code",
      "metadata": {
        "id": "_0IPadQKa6--",
        "colab_type": "code",
        "colab": {}
      },
      "source": [
        "# Function to create model, required for KerasClassifier\n",
        "\n",
        "  # create model\n",
        "\n",
        "  \n",
        "  \n",
        "  \n",
        "  \n",
        "  # Compile model\n",
        "\n",
        "  \n",
        "\n",
        "# fix random seed for reproducibility\n",
        "\n",
        "\n",
        "print(\"Done creating modeler function...\")\n"
      ],
      "execution_count": 0,
      "outputs": []
    },
    {
      "cell_type": "markdown",
      "metadata": {
        "id": "xQfwqGGCDN8M",
        "colab_type": "text"
      },
      "source": [
        "**Step 3**: Load the dataset to be processed and split into training and testing sets."
      ]
    },
    {
      "cell_type": "code",
      "metadata": {
        "id": "ph63JIlaCu8o",
        "colab_type": "code",
        "colab": {}
      },
      "source": [
        "# load dataset\n",
        "dataset = pd.read_csv(io.BytesIO(uploaded['prima-indian.csv']))\n",
        "\n",
        "# split into input (X) and output (Y) variables\n",
        "\n",
        "\n",
        "\n",
        "print(\"Done loading dataset...\")"
      ],
      "execution_count": 0,
      "outputs": []
    },
    {
      "cell_type": "markdown",
      "metadata": {
        "id": "N6QwScC-DrJa",
        "colab_type": "text"
      },
      "source": [
        "**Step 4**: Create the model and wrap it with the KerasClassifier"
      ]
    },
    {
      "cell_type": "code",
      "metadata": {
        "id": "3mCOtNDRDqvd",
        "colab_type": "code",
        "colab": {}
      },
      "source": [
        "# create model\n",
        "\n",
        "\n",
        "print(\"Done creating model architecture...\")\n",
        " "
      ],
      "execution_count": 0,
      "outputs": []
    },
    {
      "cell_type": "markdown",
      "metadata": {
        "id": "-DWBoE4MGZjj",
        "colab_type": "text"
      },
      "source": [
        "**Step 5**: Define set of values for each parameter and setup the parameter grid."
      ]
    },
    {
      "cell_type": "code",
      "metadata": {
        "id": "xWP6xrleGZKC",
        "colab_type": "code",
        "colab": {}
      },
      "source": [
        "#define parameter grid \n",
        "\n",
        "\n",
        "print(\"Done defining parameter grid...\")"
      ],
      "execution_count": 0,
      "outputs": []
    },
    {
      "cell_type": "markdown",
      "metadata": {
        "id": "z9NMiILWH4BG",
        "colab_type": "text"
      },
      "source": [
        "**Step 6**: Create a GridSearch object and fit the data."
      ]
    },
    {
      "cell_type": "code",
      "metadata": {
        "id": "do-RLl1tH3yh",
        "colab_type": "code",
        "colab": {}
      },
      "source": [
        "\n",
        "\n",
        "\n",
        "print(\"Done searching parameter grid...\")\n"
      ],
      "execution_count": 0,
      "outputs": []
    },
    {
      "cell_type": "markdown",
      "metadata": {
        "id": "lSAxLEZjIW0k",
        "colab_type": "text"
      },
      "source": [
        "**Step 7**: Output the results and select the best fitting model"
      ]
    },
    {
      "cell_type": "code",
      "metadata": {
        "id": "Ppx6MzpEIWo1",
        "colab_type": "code",
        "colab": {}
      },
      "source": [
        "# display results\n",
        "print(\"Top performance: %f with hyperparameters %s\" % (grid_result.best_score_, grid_result.best_params_))\n",
        "means = grid_result.cv_results_['mean_test_score']\n",
        "stds = grid_result.cv_results_['std_test_score']\n",
        "params = grid_result.cv_results_['params']\n",
        "for mean, stdev, param in zip(means, stds, params):\n",
        "    print(\"%f (%f) with: %r\" % (mean, stdev, param))\n",
        "\n",
        "print(\"Done with optimization...\")"
      ],
      "execution_count": 0,
      "outputs": []
    }
  ]
}