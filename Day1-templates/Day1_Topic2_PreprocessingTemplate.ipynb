{
  "nbformat": 4,
  "nbformat_minor": 0,
  "metadata": {
    "colab": {
      "name": "Day1_Topic2_PreprocessingTemplate.ipynb",
      "provenance": [],
      "collapsed_sections": []
    },
    "kernelspec": {
      "name": "python3",
      "display_name": "Python 3"
    }
  },
  "cells": [
    {
      "cell_type": "markdown",
      "metadata": {
        "id": "XC0pdzGWcKax",
        "colab_type": "text"
      },
      "source": [
        "# Topic : Data Preprocessing \n",
        "## Objective for this template:\n",
        "1. Introduce participants to fundamental concepts of preprocessing.\n",
        "2. Demonstrate the process of using Python libraries for various preprocessing techniques\n",
        "3. Allow participants to visualize changes in the values of the dataset when applying preprocessing.\n",
        "4. Enable pariticipants to familiarize with the colab notebook environment.\n",
        "\n",
        "Designed By: _Rodolfo C. Raga Jr._  __Copyright @2019__\n",
        "\n",
        "__Permission granted to use template for educational purposes so long as this heading is not removed.__\n",
        "---"
      ]
    },
    {
      "cell_type": "markdown",
      "metadata": {
        "id": "kI7zcLtXoXER",
        "colab_type": "text"
      },
      "source": [
        "```\n",
        "# Step 1: Upload the sample dataset to be processed. (i.e, winequality.csv)\n"
      ]
    },
    {
      "cell_type": "code",
      "metadata": {
        "id": "_AyUzHAOGKzI",
        "colab_type": "code",
        "colab": {}
      },
      "source": [
        "from google.colab import files\n",
        "uploaded = files.upload()\n",
        "\n",
        "for fn in uploaded.keys():\n",
        "  print('User uploaded file \"{name}\" with length length bytes'.format(name=fn))"
      ],
      "execution_count": 0,
      "outputs": []
    },
    {
      "cell_type": "markdown",
      "metadata": {
        "id": "x5pCxOnZooH9",
        "colab_type": "text"
      },
      "source": [
        "```\n",
        "# Step 2: import necessary support libraries.\n",
        "```"
      ]
    },
    {
      "cell_type": "code",
      "metadata": {
        "id": "EKjTeXwSCu_w",
        "colab_type": "code",
        "colab": {}
      },
      "source": [
        "\n",
        "\n",
        "print (\"\\nSupport libraries importe\")"
      ],
      "execution_count": 0,
      "outputs": []
    },
    {
      "cell_type": "markdown",
      "metadata": {
        "id": "wN5I07NYo8BO",
        "colab_type": "text"
      },
      "source": [
        "```\n",
        "# Step 3: First, examine the values in the original dataset and its histograms carefully.\n",
        "```"
      ]
    },
    {
      "cell_type": "code",
      "metadata": {
        "id": "OuCn6G4TeJk9",
        "colab_type": "code",
        "colab": {}
      },
      "source": [
        "#Examine original dataset\n",
        "\n",
        "print (\"\\nActivity: View original dataset:\")\n",
        "\n",
        "\n",
        "print(dataArray.head(5))\n",
        " "
      ],
      "execution_count": 0,
      "outputs": []
    },
    {
      "cell_type": "markdown",
      "metadata": {
        "id": "FBMmqGpVpfxk",
        "colab_type": "text"
      },
      "source": [
        "```\n",
        "# Step 4: Preprocess the original dataset by normalizing it using the MinMaxScaler. Inspect the resulting new values and histograms carefully and compare it with the original dataset.\n",
        "```"
      ]
    },
    {
      "cell_type": "code",
      "metadata": {
        "id": "8FsfISPgfJKs",
        "colab_type": "code",
        "colab": {}
      },
      "source": [
        "#transform attributes to have the same scale and normalize to between 0 and 1\n",
        "\n",
        "print (\"\\nActivity: Rescale/normalize dataset:\")\n",
        "\n",
        "\n",
        "\n",
        "\n",
        "\n",
        "print (\"\\noriginal dataset:\")\n",
        "print(dataArray.head(5))\n",
        "print (\"\\nnormalized dataset:\")\n",
        "print(rescaledSet.head(5))\n",
        "\n"
      ],
      "execution_count": 0,
      "outputs": []
    },
    {
      "cell_type": "markdown",
      "metadata": {
        "id": "X7rYQ0SDwcGZ",
        "colab_type": "text"
      },
      "source": [
        "\n",
        "```\n",
        "# Step 5: Now, preprocess the dataset by standardizing it using the scale function. Inspect the resulting new values and histograms carefully and compare it with the original dataset.\n",
        "```\n",
        "\n"
      ]
    },
    {
      "cell_type": "code",
      "metadata": {
        "id": "c-nVzbuJgIJC",
        "colab_type": "code",
        "colab": {}
      },
      "source": [
        "#standardize attributes to have normal distribution a standard deviation of 1.\n",
        "\n",
        "print (\"\\nActivity: Rescaling dataset:\")\n",
        "\n",
        "\n",
        "\n",
        "\n",
        "\n",
        "print (\"\\noriginal dataset:\")\n",
        "print(dataArray.head(5))\n",
        "print (\"\\nnormalized dataset:\")\n",
        "print(scaledSet.head(5))\n"
      ],
      "execution_count": 0,
      "outputs": []
    },
    {
      "cell_type": "markdown",
      "metadata": {
        "id": "lm7ty_EMxMxs",
        "colab_type": "text"
      },
      "source": [
        "```\n",
        "# Step 6: Finally, preprocess the data by binarizing the attributes using the Binarizer function. Inspect the resulting new values and histograms carefully and compare it with the original dataset.\n",
        "```"
      ]
    },
    {
      "cell_type": "code",
      "metadata": {
        "id": "v8f4vLFOyMIm",
        "colab_type": "code",
        "colab": {}
      },
      "source": [
        "#binarize attributes using binarizer\n",
        "\n",
        "\n",
        "print (\"\\nActivity: binarizing dataset:\")\n",
        "\n",
        "\n",
        "\n",
        "\n",
        "\n",
        "\n",
        "\n",
        "print (\"\\noriginal dataset:\")\n",
        "print(dataArray.head(5))\n",
        "print (\"\\nbinarized dataset:\")\n",
        "print(binarizedSet.head(5))"
      ],
      "execution_count": 0,
      "outputs": []
    }
  ]
}