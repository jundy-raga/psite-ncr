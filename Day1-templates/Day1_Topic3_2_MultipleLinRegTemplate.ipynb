{
  "nbformat": 4,
  "nbformat_minor": 0,
  "metadata": {
    "colab": {
      "name": "Day1_Topic3-2_MultipleLinRegTemplate.ipynb",
      "provenance": [],
      "collapsed_sections": []
    },
    "kernelspec": {
      "display_name": "Python 3",
      "language": "python",
      "name": "python3"
    },
    "language_info": {
      "codemirror_mode": {
        "name": "ipython",
        "version": 3
      },
      "file_extension": ".py",
      "mimetype": "text/x-python",
      "name": "python",
      "nbconvert_exporter": "python",
      "pygments_lexer": "ipython3",
      "version": "3.7.3"
    }
  },
  "cells": [
    {
      "cell_type": "markdown",
      "metadata": {
        "id": "E7D6uqBg1uZI",
        "colab_type": "text"
      },
      "source": [
        "# Topic : Neural Network for Multiple Linear Regression  \n",
        "## Objective for this template:\n",
        "\n",
        "1. Introduce participants to fundamental concepts of multiple linear regression\n",
        "2. Use tensorflow to build a simple sequential neural network regression model that accepts multiple features.\n",
        "3. Demonstrate the process of inspecting attribute relationships as well as training  and evaluating the performance of the model\n",
        "4. Allow participants to practice adjusting various parameters of the model to improve performance.\n",
        "\n",
        "Designed By: _Rodolfo C. Raga Jr._  __Copyright @2019__\n",
        "\n",
        "__Permission granted to use template for educational purposes so long as this heading is not removed.__\n",
        "---\n",
        "\n",
        "\n",
        "\n",
        "---\n",
        "\n"
      ]
    },
    {
      "cell_type": "markdown",
      "metadata": {
        "id": "PTOVZNMD1ci2",
        "colab_type": "text"
      },
      "source": [
        "**Step 1** : load the tensorflow library and other helper libaries using the import keyword"
      ]
    },
    {
      "cell_type": "code",
      "metadata": {
        "colab_type": "code",
        "id": "3tzXnSzxapxr",
        "colab": {}
      },
      "source": [
        "\n",
        "\n",
        "\n",
        "\n",
        "\n",
        "\n",
        "\n",
        "\n",
        "\n",
        "\n",
        "\n",
        "print(\"Done with library declaration. Current version of Tensorflow is :\", tf.__version__)\n",
        "print(\"Select dataset to load...\")\n",
        "from google.colab import files\n",
        "uploaded=files.upload()"
      ],
      "execution_count": 0,
      "outputs": []
    },
    {
      "cell_type": "markdown",
      "metadata": {
        "id": "Ex8CxTMx1cjB",
        "colab_type": "text"
      },
      "source": [
        "**Step 2** : Load data into a dataframe and visually inspect the headers and values \n",
        "\n"
      ]
    },
    {
      "cell_type": "code",
      "metadata": {
        "colab_type": "code",
        "id": "sQ_IEhmdazze",
        "colab": {}
      },
      "source": [
        "\n",
        "print(\"Done with loading data to dataframes...\")\n",
        "\n",
        "dataset_raw.head()"
      ],
      "execution_count": 0,
      "outputs": []
    },
    {
      "cell_type": "markdown",
      "metadata": {
        "id": "WuC452ds8QHs",
        "colab_type": "text"
      },
      "source": [
        "**Step 3** : Preprocess data by removing categorical attributes, removing instances with missing values, and converting origin into a dummy variable. "
      ]
    },
    {
      "cell_type": "code",
      "metadata": {
        "id": "FxuvwChB-Bw-",
        "colab_type": "code",
        "colab": {}
      },
      "source": [
        "\n",
        "\n",
        "\n",
        "\n",
        "\n"
      ],
      "execution_count": 0,
      "outputs": []
    },
    {
      "cell_type": "markdown",
      "metadata": {
        "id": "YVC-gHcl0Hna",
        "colab_type": "text"
      },
      "source": [
        "**Step 4** : Analyze the relationship between the dependent and independent attributes by visualizing the correlation using scatter charts generated using sns library. "
      ]
    },
    {
      "cell_type": "code",
      "metadata": {
        "id": "jySLerN4aKKB",
        "colab_type": "code",
        "colab": {}
      },
      "source": [
        "\n",
        "\n"
      ],
      "execution_count": 0,
      "outputs": []
    },
    {
      "cell_type": "markdown",
      "metadata": {
        "colab_type": "text",
        "id": "hLfaXjMObzGK"
      },
      "source": [
        "**Step 5** : Normalize the dataset features and inspect the new representation...\n",
        "\n"
      ]
    },
    {
      "cell_type": "code",
      "metadata": {
        "id": "AZ8Wv4-IoEBK",
        "colab_type": "code",
        "colab": {}
      },
      "source": [
        "\n",
        "\n",
        "\n",
        "print(rescaledDF.head())"
      ],
      "execution_count": 0,
      "outputs": []
    },
    {
      "cell_type": "markdown",
      "metadata": {
        "colab_type": "text",
        "id": "oUkDy0Uybquf"
      },
      "source": [
        "**Step 6** : Split the dataset into its predictor and target features. Then separate them into distinct training and testing datasets."
      ]
    },
    {
      "cell_type": "code",
      "metadata": {
        "colab_type": "code",
        "id": "mN0-7f4Ubpbe",
        "colab": {}
      },
      "source": [
        "\n",
        "\n",
        "\n",
        "\n",
        "print(\"Done with data separation...\")\n",
        "\n",
        "print(y_train.tail())\n",
        "X_train.tail()\n"
      ],
      "execution_count": 0,
      "outputs": []
    },
    {
      "cell_type": "markdown",
      "metadata": {
        "id": "DINSOKUp-N5g",
        "colab_type": "text"
      },
      "source": [
        "Step 5: We start building the neural network by using the Sequential API to define a Sequential model object named model. This type of model takes a list of layers (Input, Hidden, Output) as arguments and implicitly assumes the order of the calculation from the input layer to the output layer based on the sequence of layer definitions. "
      ]
    },
    {
      "cell_type": "code",
      "metadata": {
        "colab_type": "code",
        "id": "g-R5IvgadXqC",
        "colab": {}
      },
      "source": [
        "\n"
      ],
      "execution_count": 0,
      "outputs": []
    },
    {
      "cell_type": "markdown",
      "metadata": {
        "id": "Fp9vDht3CKFc",
        "colab_type": "text"
      },
      "source": [
        "Step 6: Then we start defining the layers using the Dense class. Dense implements the operation: output = activation(dot(input, kernel) + bias) where activation is the element-wise activation function passed as the activation argument, kernel is a weights matrix created by the layer, and bias is a bias vector created by the layer (only applicable if use_bias is True )"
      ]
    },
    {
      "cell_type": "code",
      "metadata": {
        "colab_type": "code",
        "id": "xIRk26hmepaY",
        "colab": {}
      },
      "source": [
        "\n",
        "\n",
        "\n",
        "\n",
        "\n",
        "\n",
        "#layer_0 = tf.keras.layers.Dense(units=40, input_shape=[len(X_train.keys())])\n",
        "#layer_1 = tf.keras.layers.Dense(units=40)\n",
        "#layer_2 = tf.keras.layers.Dense(units=10)\n",
        "#layer_3 = tf.keras.layers.Dense(units=1)"
      ],
      "execution_count": 0,
      "outputs": []
    },
    {
      "cell_type": "markdown",
      "metadata": {
        "id": "a4WkggcfFzaC",
        "colab_type": "text"
      },
      "source": [
        "Step 7: After that, we start inserting the dense layers one by one into our sequential model in the order that we want data to flow through them. We can then inspect the overall architecture of the Neural network."
      ]
    },
    {
      "cell_type": "code",
      "metadata": {
        "colab_type": "code",
        "id": "EuqUagrie1P3",
        "colab": {}
      },
      "source": [
        "#model = tf.keras.Sequential([layer_0,layer_1,layer_2])\n",
        "\n",
        "\n",
        "\n",
        "\n",
        "model.summary()"
      ],
      "execution_count": 0,
      "outputs": []
    },
    {
      "cell_type": "markdown",
      "metadata": {
        "id": "nJ38HWvOHX9S",
        "colab_type": "text"
      },
      "source": [
        "Step 8: Compile the built model architecture. The compilation configures the learning process by defining an optimizer, a loss function, and other useful training parameters. "
      ]
    },
    {
      "cell_type": "code",
      "metadata": {
        "id": "eZ39qp4Be7xn",
        "colab_type": "code",
        "colab": {}
      },
      "source": [
        "\n",
        "\n",
        "\n",
        "print(\"Done with compile\")"
      ],
      "execution_count": 0,
      "outputs": []
    },
    {
      "cell_type": "markdown",
      "metadata": {
        "id": "r-IYiDxhHkjh",
        "colab_type": "text"
      },
      "source": [
        "Step 9: Train the model by using the set training data"
      ]
    },
    {
      "cell_type": "code",
      "metadata": {
        "colab_type": "code",
        "id": "0iYGJMLVfQ2G",
        "colab": {}
      },
      "source": [
        "\n",
        "print(\"Done with model training\")\n",
        "model.summary()"
      ],
      "execution_count": 0,
      "outputs": []
    },
    {
      "cell_type": "markdown",
      "metadata": {
        "id": "vTT_jCW5H2kQ",
        "colab_type": "text"
      },
      "source": [
        "Step 10: Test the performance of the model using the testing dataset"
      ]
    },
    {
      "cell_type": "code",
      "metadata": {
        "id": "Z0xuTOyzIBjJ",
        "colab_type": "code",
        "colab": {}
      },
      "source": [
        "\n",
        "print(y_pred.size)\n",
        "print(y_test.size)\n",
        "print('Actual Values')\n",
        "print(y_test)\n",
        "\n",
        "print('Predicted Values')\n",
        "print(y_pred.reshape(1,-1))\n",
        "\n",
        "score=r2_score(y_test,y_pred)\n",
        "print(\"Overall score: {}\".format(score*100))"
      ],
      "execution_count": 0,
      "outputs": []
    },
    {
      "cell_type": "markdown",
      "metadata": {
        "id": "gCyq_uHyIINi",
        "colab_type": "text"
      },
      "source": [
        "Other things we can do:\n",
        "1. Analyze training statistics"
      ]
    },
    {
      "cell_type": "code",
      "metadata": {
        "colab_type": "code",
        "id": "-niV7nX3f2AC",
        "colab": {}
      },
      "source": [
        "\n",
        "\n",
        "\n",
        "\n"
      ],
      "execution_count": 0,
      "outputs": []
    }
  ]
}